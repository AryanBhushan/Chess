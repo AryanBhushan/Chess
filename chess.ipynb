{
 "cells": [
  {
   "cell_type": "markdown",
   "metadata": {},
   "source": [
    "## Chess Human vs Ai  ##\n",
    "\n"
   ]
  },
  {
   "cell_type": "markdown",
   "metadata": {},
   "source": [
    "1.Installation of library which will provide us with all of the move generation and validation."
   ]
  },
  {
   "cell_type": "code",
   "execution_count": null,
   "metadata": {},
   "outputs": [],
   "source": [
    "%pip install python-chess"
   ]
  },
  {
   "cell_type": "markdown",
   "metadata": {},
   "source": [
    "2.After installing the library , Start importing and  initializing the board."
   ]
  },
  {
   "cell_type": "code",
   "execution_count": null,
   "metadata": {},
   "outputs": [],
   "source": [
    "import chess\n",
    "board = chess.Board()\n",
    "board"
   ]
  },
  {
   "cell_type": "markdown",
   "metadata": {},
   "source": [
    "3.Board Evaluation\n"
   ]
  },
  {
   "cell_type": "code",
   "execution_count": null,
   "metadata": {},
   "outputs": [],
   "source": [
    "pawntable = [\n",
    "    0, 0, 0, 0, 0, 0, 0, 0,\n",
    "    5, 10, 10, -20, -20, 10, 10, 5,\n",
    "    5, -5, -10, 0, 0, -10, -5, 5,\n",
    "    0, 0, 0, 20, 20, 0, 0, 0,\n",
    "    5, 5, 10, 25, 25, 10, 5, 5,\n",
    "    10, 10, 20, 30, 30, 20, 10, 10,\n",
    "    50, 50, 50, 50, 50, 50, 50, 50,\n",
    "    0, 0, 0, 0, 0, 0, 0, 0]\n",
    "\n",
    "knightstable = [\n",
    "    -50, -40, -30, -30, -30, -30, -40, -50,\n",
    "    -40, -20, 0, 5, 5, 0, -20, -40,\n",
    "    -30, 5, 10, 15, 15, 10, 5, -30,\n",
    "    -30, 0, 15, 20, 20, 15, 0, -30,\n",
    "    -30, 5, 15, 20, 20, 15, 5, -30,\n",
    "    -30, 0, 10, 15, 15, 10, 0, -30,\n",
    "    -40, -20, 0, 0, 0, 0, -20, -40,\n",
    "    -50, -40, -30, -30, -30, -30, -40, -50]\n",
    "bishopstable = [\n",
    "    -20, -10, -10, -10, -10, -10, -10, -20,\n",
    "    -10, 5, 0, 0, 0, 0, 5, -10,\n",
    "    -10, 10, 10, 10, 10, 10, 10, -10,\n",
    "    -10, 0, 10, 10, 10, 10, 0, -10,\n",
    "    -10, 5, 5, 10, 10, 5, 5, -10,\n",
    "    -10, 0, 5, 10, 10, 5, 0, -10,\n",
    "    -10, 0, 0, 0, 0, 0, 0, -10,\n",
    "    -20, -10, -10, -10, -10, -10, -10, -20]\n",
    "rookstable = [\n",
    "    0, 0, 0, 5, 5, 0, 0, 0,\n",
    "    -5, 0, 0, 0, 0, 0, 0, -5,\n",
    "    -5, 0, 0, 0, 0, 0, 0, -5,\n",
    "    -5, 0, 0, 0, 0, 0, 0, -5,\n",
    "    -5, 0, 0, 0, 0, 0, 0, -5,\n",
    "    -5, 0, 0, 0, 0, 0, 0, -5,\n",
    "    5, 10, 10, 10, 10, 10, 10, 5,\n",
    "    0, 0, 0, 0, 0, 0, 0, 0]\n",
    "queenstable = [\n",
    "    -20, -10, -10, -5, -5, -10, -10, -20,\n",
    "    -10, 0, 0, 0, 0, 0, 0, -10,\n",
    "    -10, 5, 5, 5, 5, 5, 0, -10,\n",
    "    0, 0, 5, 5, 5, 5, 0, -5,\n",
    "    -5, 0, 5, 5, 5, 5, 0, -5,\n",
    "    -10, 0, 5, 5, 5, 5, 0, -10,\n",
    "    -10, 0, 0, 0, 0, 0, 0, -10,\n",
    "    -20, -10, -10, -5, -5, -10, -10, -20]\n",
    "kingstable = [\n",
    "    20, 30, 10, 0, 0, 10, 30, 20,\n",
    "    20, 20, 0, 0, 0, 0, 20, 20,\n",
    "    -10, -20, -20, -20, -20, -20, -20, -10,\n",
    "    -20, -30, -30, -40, -40, -30, -30, -20,\n",
    "    -30, -40, -40, -50, -50, -40, -40, -30,\n",
    "    -30, -40, -40, -50, -50, -40, -40, -30,\n",
    "    -30, -40, -40, -50, -50, -40, -40, -30,\n",
    "    -30, -40, -40, -50, -50, -40, -40, -30]"
   ]
  },
  {
   "cell_type": "markdown",
   "metadata": {},
   "source": [
    "4.Evaluation function"
   ]
  },
  {
   "cell_type": "code",
   "execution_count": null,
   "metadata": {},
   "outputs": [],
   "source": [
    "\n",
    "\n",
    "def evaluate_board():\n",
    "    if board.is_checkmate():\n",
    "        if board.turn:\n",
    "        \n",
    "            return -9999\n",
    "        else:\n",
    "         \n",
    "            return 9999\n",
    "    if board.is_stalemate():\n",
    "        return 0\n",
    "    if board.is_insufficient_material():\n",
    "        return 0\n",
    "#calculation of total number of pieces on board .\n",
    "    wp = len(board.pieces(chess.PAWN, chess.WHITE))\n",
    "    bp = len(board.pieces(chess.PAWN, chess.BLACK))\n",
    "    wn = len(board.pieces(chess.KNIGHT, chess.WHITE))\n",
    "    bn = len(board.pieces(chess.KNIGHT, chess.BLACK))\n",
    "    wb = len(board.pieces(chess.BISHOP, chess.WHITE))\n",
    "    bb = len(board.pieces(chess.BISHOP, chess.BLACK))\n",
    "    wr = len(board.pieces(chess.ROOK, chess.WHITE))\n",
    "    br = len(board.pieces(chess.ROOK, chess.BLACK))\n",
    "    wq = len(board.pieces(chess.QUEEN, chess.WHITE))\n",
    "    bq = len(board.pieces(chess.QUEEN, chess.BLACK))\n",
    "\n",
    "    material = 100 * (wp - bp) + 320 * (wn - bn) + 330 * (wb - bb) + 500 * (wr - br) + 900 * (wq - bq)\n",
    "\n",
    "    pawnsq = sum([pawntable[i] for i in board.pieces(chess.PAWN, chess.WHITE)])\n",
    "    pawnsq = pawnsq + sum([-pawntable[chess.square_mirror(i)]\n",
    "                           for i in board.pieces(chess.PAWN, chess.BLACK)])\n",
    "    knightsq = sum([knightstable[i] for i in board.pieces(chess.KNIGHT, chess.WHITE)])\n",
    "    knightsq = knightsq + sum([-knightstable[chess.square_mirror(i)]\n",
    "                               for i in board.pieces(chess.KNIGHT, chess.BLACK)])\n",
    "    bishopsq = sum([bishopstable[i] for i in board.pieces(chess.BISHOP, chess.WHITE)])\n",
    "    bishopsq = bishopsq + sum([-bishopstable[chess.square_mirror(i)]\n",
    "                               for i in board.pieces(chess.BISHOP, chess.BLACK)])\n",
    "    rooksq = sum([rookstable[i] for i in board.pieces(chess.ROOK, chess.WHITE)])\n",
    "    rooksq = rooksq + sum([-rookstable[chess.square_mirror(i)]\n",
    "                           for i in board.pieces(chess.ROOK, chess.BLACK)])\n",
    "    queensq = sum([queenstable[i] for i in board.pieces(chess.QUEEN, chess.WHITE)])\n",
    "    queensq = queensq + sum([-queenstable[chess.square_mirror(i)]\n",
    "                             for i in board.pieces(chess.QUEEN, chess.BLACK)])\n",
    "    kingsq = sum([kingstable[i] for i in board.pieces(chess.KING, chess.WHITE)])\n",
    "    kingsq = kingsq + sum([-kingstable[chess.square_mirror(i)]\n",
    "                           for i in board.pieces(chess.KING, chess.BLACK)])\n",
    "\n",
    "    eval = material + pawnsq + knightsq + bishopsq + rooksq + queensq + kingsq\n",
    "    if board.turn:\n",
    "        return eval\n",
    "    else:\n",
    "        return -eval\n"
   ]
  },
  {
   "cell_type": "markdown",
   "metadata": {},
   "source": [
    "5.Move Selection - Using **MiniMax Alogrithm**"
   ]
  },
  {
   "cell_type": "code",
   "execution_count": null,
   "metadata": {},
   "outputs": [],
   "source": [
    "def selectmove(depth):\n",
    "    try:\n",
    "        move = chess.polyglot.MemoryMappedReader(\"Downloads/human.bin\").weighted_choice(board).move\n",
    "       # move = chess.polyglot.MemoryMappedReader(\"Downloads/computer.bin\").weighted_choice(board).move\n",
    "        return move\n",
    "    except:\n",
    "        bestMove = chess.Move.null()\n",
    "        bestValue = -99999\n",
    "        alpha = -100000\n",
    "        beta = 100000\n",
    "        for move in board.legal_moves:\n",
    "            board.push(move)\n",
    "            boardValue = -alphabeta(-beta, -alpha, depth - 1)\n",
    "            if boardValue > bestValue:\n",
    "                bestValue = boardValue\n",
    "                bestMove = move\n",
    "            if (boardValue > alpha):\n",
    "                alpha = boardValue\n",
    "            board.pop()\n",
    "          \n",
    "        return bestMove\n",
    "        "
   ]
  },
  {
   "cell_type": "markdown",
   "metadata": {},
   "source": [
    "5.1.Alpha-Beta Pruning"
   ]
  },
  {
   "cell_type": "code",
   "execution_count": null,
   "metadata": {},
   "outputs": [],
   "source": [
    "def alphabeta(alpha, beta, depthleft):\n",
    "    bestscore = -9999\n",
    "    if (depthleft == 0):\n",
    "        return quiesce(alpha, beta)\n",
    "    for move in board.legal_moves:\n",
    "        board.push(move)\n",
    "        score = -alphabeta(-beta, -alpha, depthleft - 1)\n",
    "        board.pop()\n",
    "        if (score >= beta):\n",
    "            return score\n",
    "        if (score > bestscore):\n",
    "            bestscore = score\n",
    "        if (score > alpha):\n",
    "            alpha = score\n",
    "    return bestscore"
   ]
  },
  {
   "cell_type": "markdown",
   "metadata": {},
   "source": [
    "5.2. Quiescence search"
   ]
  },
  {
   "cell_type": "code",
   "execution_count": null,
   "metadata": {},
   "outputs": [],
   "source": [
    "def quiesce(alpha, beta):\n",
    "    stand_pat = evaluate_board()\n",
    "    if (stand_pat >= beta):\n",
    "        return beta\n",
    "    if (alpha < stand_pat):\n",
    "        alpha = stand_pat\n",
    "\n",
    "    for move in board.legal_moves:\n",
    "        if board.is_capture(move):\n",
    "            board.push(move)\n",
    "            score = -quiesce(-beta, -alpha)\n",
    "            board.pop()\n",
    "\n",
    "            if (score >= beta):\n",
    "                return beta\n",
    "            if (score > alpha):\n",
    "                alpha = score\n",
    "    return alpha"
   ]
  },
  {
   "cell_type": "markdown",
   "metadata": {},
   "source": [
    "6.To able to use traceback move like undo"
   ]
  },
  {
   "cell_type": "code",
   "execution_count": null,
   "metadata": {},
   "outputs": [],
   "source": [
    "# Remaining imports\n",
    "import traceback\n",
    "\n",
    "def main():\n",
    "    global count, board\n",
    "\n",
    "\n",
    "# New Game\n",
    "\n",
    "def game():\n",
    "    board.reset()\n",
    "    return main()\n",
    "# Undo\n",
    "\n",
    "def undo():\n",
    "    try:\n",
    "        board.pop()\n",
    "    except Exception:\n",
    "        traceback.print_exc()\n",
    "    return main()"
   ]
  },
  {
   "cell_type": "markdown",
   "metadata": {},
   "source": [
    "--Before playing you should know some basic rule(https://www.instructables.com/Playing-Chess/) and how to write notation(https://www.ichess.net/blog/chess-notation/) of every piece move. Then you are **Ready to Play**"
   ]
  },
  {
   "cell_type": "markdown",
   "metadata": {},
   "source": [
    "## Play now :-) ##"
   ]
  },
  {
   "cell_type": "code",
   "execution_count": null,
   "metadata": {},
   "outputs": [],
   "source": [
    "# use this for human move, where e4 is the example move(playing with white)\n",
    "board.push_san(\"e4\")\n",
    "board\n",
    "#use this for computer move\n",
    "mov = selectmove(3)\n",
    "board.push(mov)\n",
    "board\n"
   ]
  },
  {
   "cell_type": "code",
   "execution_count": null,
   "metadata": {},
   "outputs": [],
   "source": [
    "evaluate_board()"
   ]
  }
 ],
 "metadata": {
  "interpreter": {
   "hash": "2be5faf79681da6f2a61fdfdd5405d65d042280f7fba6178067603e3a2925119"
  },
  "kernelspec": {
   "display_name": "Python 3.10.4 64-bit",
   "language": "python",
   "name": "python3"
  },
  "language_info": {
   "codemirror_mode": {
    "name": "ipython",
    "version": 3
   },
   "file_extension": ".py",
   "mimetype": "text/x-python",
   "name": "python",
   "nbconvert_exporter": "python",
   "pygments_lexer": "ipython3",
   "version": "3.10.4"
  },
  "orig_nbformat": 4
 },
 "nbformat": 4,
 "nbformat_minor": 2
}
